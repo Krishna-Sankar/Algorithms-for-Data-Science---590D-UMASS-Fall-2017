{
 "cells": [
  {
   "cell_type": "markdown",
   "metadata": {},
   "source": [
    "## 590D - Algorithms for Data Science = >   Mini Exercise 3"
   ]
  },
  {
   "cell_type": "code",
   "execution_count": 93,
   "metadata": {
    "collapsed": true
   },
   "outputs": [],
   "source": [
    "import numpy as np\n",
    "import random\n",
    "import sys\n",
    "import matplotlib.pyplot as plt"
   ]
  },
  {
   "cell_type": "code",
   "execution_count": 94,
   "metadata": {
    "collapsed": true
   },
   "outputs": [],
   "source": [
    "def generateData(c):\n",
    "    xa = []\n",
    "    ya = []\n",
    "    xb = []\n",
    "    yb = []\n",
    "    for i in range(c):\n",
    "        xa.append((random.random()*2-1)/2-0.5)\n",
    "        ya.append((random.random()*2-1)/2+0.5)\n",
    "        xb.append((random.random()*2-1)/2+0.5)\n",
    "        yb.append((random.random()*2-1)/2-0.5)\n",
    "    data = []\n",
    "    for i in range(len(xb)):\n",
    "        data.append([xa[i],ya[i],1])\n",
    "        data.append([xb[i],yb[i],-1])\n",
    "    return data"
   ]
  },
  {
   "cell_type": "code",
   "execution_count": 95,
   "metadata": {
    "collapsed": true
   },
   "outputs": [],
   "source": [
    "def margin_calculation(points, weights):\n",
    "    \n",
    "    temp = np.sqrt(np.sum(weights**2))\n",
    "    int_min= sys.float_info.max\n",
    "    for index in range(points.shape[0]):\n",
    "        margin = np.sum(points[index] * weights)\n",
    "        margin=margin/temp\n",
    "        if margin < int_min:\n",
    "            int_min = margin\n",
    "    #print \"\\n\\n MARGIN VALUES\\n\\n\"\n",
    "    print(margin)"
   ]
  },
  {
   "cell_type": "code",
   "execution_count": 96,
   "metadata": {
    "collapsed": true
   },
   "outputs": [],
   "source": [
    "def graph_plotting(data, weight_values):\n",
    "        \n",
    "    xa = []\n",
    "    ya = []\n",
    "    xb = []\n",
    "    yb = []\n",
    "    for point in data:\n",
    "        if point[2] == 1:\n",
    "            xa.append(point[0])\n",
    "            ya.append(point[1])\n",
    "        else:\n",
    "            xb.append(point[0])\n",
    "            yb.append(point[1])\n",
    "    \n",
    "    w_x = []\n",
    "    w_y = []\n",
    "    for weight in weight_values:\n",
    "        w_x.append(weight[0])\n",
    "        w_y.append(weight[1])\n",
    "    \n",
    "    plt.title('Perceptron Learning Algorithm')\n",
    "    plt.scatter(xa, ya, color='g')\n",
    "    plt.scatter(xb, yb, color = 'r')\n",
    "    plt.scatter(w_x, w_y, color='b')\n",
    "    plt.show()\n",
    "    plt.close()"
   ]
  },
  {
   "cell_type": "code",
   "execution_count": 97,
   "metadata": {
    "collapsed": true
   },
   "outputs": [],
   "source": [
    "def get_coordinates(points, labels, weights):\n",
    "    \n",
    "    for iterator in range(points.shape[0]):\n",
    "        if np.sum(points[iterator]*weights)*labels[iterator] <= 0:\n",
    "            return False\n",
    "    return True"
   ]
  },
  {
   "cell_type": "code",
   "execution_count": 98,
   "metadata": {
    "collapsed": true
   },
   "outputs": [],
   "source": [
    "def perceptron(examples):\n",
    "    weights = []\n",
    "    a = np.zeros((len(examples), 3))\n",
    "    l = np.zeros((len(examples),))\n",
    "    w = np.zeros((3,))\n",
    "    for idx, point in enumerate(examples):\n",
    "        a[idx][0] = point[0]*1.0\n",
    "        a[idx][1] = point[1]*1.0\n",
    "        a[idx][2] = 1\n",
    "        l[idx] = point[2]\n",
    "    \n",
    "    w = np.reshape(a[0]*l[0],(3,))\n",
    "    weights.append(np.copy(w))\n",
    "    index = True\n",
    "    while(index):\n",
    "        index = random.randint(0, len(examples)-1)\n",
    "        while(np.sum(a[index]*w)*l[index] > 0):\n",
    "            index = random.randint(0, len(examples)-1)\n",
    "        w += np.reshape(a[index]*l[index],(3,))\n",
    "        weights.append(np.copy(w))\n",
    "        if(get_coordinates(a, l, w) == True):\n",
    "            index = False\n",
    "    print(\"\\nCalculated Weights = >\\n\");\n",
    "    print(weights)\n",
    "    graph_plotting(examples, weights)\n",
    "    margin_calculation(a, w)"
   ]
  },
  {
   "cell_type": "code",
   "execution_count": 99,
   "metadata": {},
   "outputs": [
    {
     "name": "stdout",
     "output_type": "stream",
     "text": [
      "\n",
      "Calculated Weights = >\n",
      "\n",
      "[array([-0.95911361,  0.29131544,  1.        ]), array([-1.35459034,  0.52299209,  0.        ])]\n"
     ]
    },
    {
     "data": {
      "image/png": "[encoded data removed]",
      "text/plain": [
       "<matplotlib.figure.Figure at 0x8d742e8>"
      ]
     },
     "metadata": {},
     "output_type": "display_data"
    },
    {
     "name": "stdout",
     "output_type": "stream",
     "text": [
      "-0.452378439264\n",
      "\n",
      "Calculated Weights = >\n",
      "\n",
      "[array([-0.13837646,  0.52059612,  1.        ]), array([-0.24032994,  0.52266272,  0.        ])]\n"
     ]
    },
    {
     "data": {
      "image/png": "[encoded data removed]",
      "text/plain": [
       "<matplotlib.figure.Figure at 0x6f1bda0>"
      ]
     },
     "metadata": {},
     "output_type": "display_data"
    },
    {
     "name": "stdout",
     "output_type": "stream",
     "text": [
      "-0.138680544574\n",
      "\n",
      "Calculated Weights = >\n",
      "\n",
      "[array([-0.84176639,  0.72507737,  1.        ]), array([-1.31385786,  1.04043535,  0.        ])]\n"
     ]
    },
    {
     "data": {
      "image/png": "[encoded data removed]",
      "text/plain": [
       "<matplotlib.figure.Figure at 0x92fc2b0>"
      ]
     },
     "metadata": {},
     "output_type": "display_data"
    },
    {
     "name": "stdout",
     "output_type": "stream",
     "text": [
      "-0.689391174925\n"
     ]
    }
   ],
   "source": [
    "samples = [4, 10, 20]\n",
    "for i in samples:\n",
    "    examples = generateData(i)\n",
    "    #print(examples)\n",
    "    perceptron(examples)"
   ]
  }
 ],
 "metadata": {
  "kernelspec": {
   "display_name": "Python 2",
   "language": "python",
   "name": "python2"
  },
  "language_info": {
   "codemirror_mode": {
    "name": "ipython",
    "version": 2
   },
   "file_extension": ".py",
   "mimetype": "text/x-python",
   "name": "python",
   "nbconvert_exporter": "python",
   "pygments_lexer": "ipython2",
   "version": "2.7.14"
  }
 },
 "nbformat": 4,
 "nbformat_minor": 2
}
