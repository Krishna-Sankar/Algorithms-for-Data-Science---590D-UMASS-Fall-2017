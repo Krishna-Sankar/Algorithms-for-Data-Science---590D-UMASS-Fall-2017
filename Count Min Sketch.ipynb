{
 "cells": [
  {
   "cell_type": "markdown",
   "metadata": {},
   "source": [
    "### 590D Mini Exercise-2"
   ]
  },
  {
   "cell_type": "markdown",
   "metadata": {},
   "source": [
    "###  Group Members : Krishna Prasad Sankaranarayanan ad Vinayak Mathur"
   ]
  },
  {
   "cell_type": "markdown",
   "metadata": {},
   "source": [
    "Implement Count Min Sketch and plot the frequency of all elements as reported by the Count Min sketch data structure as well as their true frequencies using  ε = 0.01 and number of hash functions = 25."
   ]
  },
  {
   "cell_type": "code",
   "execution_count": 25,
   "metadata": {
    "collapsed": true
   },
   "outputs": [],
   "source": [
    "import math\n",
    "from random import randint\n",
    "import random\n",
    "import numpy as np\n",
    "import matplotlib.pyplot as plt"
   ]
  },
  {
   "cell_type": "code",
   "execution_count": 26,
   "metadata": {
    "collapsed": true
   },
   "outputs": [],
   "source": [
    "a = [] # paramterer for calculating hash functions\n",
    "b = [] # paramterer for calculating hash functions\n",
    "\n",
    "# number of stream elements\n",
    "stream_count = 10000 #Number of elements\n",
    "p = 1000003 #Prime Number for calculating hash functions\n",
    "n = 25 # No of Hash Functions = d = depth = number of rows in count min sketch \n",
    "eps = 0.001 #epsilon \n",
    "l = math.exp(1) # l=e\n",
    "l = math.ceil(l / eps)  #e/eps = width of count min sketch \n",
    "l = int(l) # coonverting to integer \n",
    "m = l #=width \n",
    "#print \"m\",m\n",
    "stream_range=50 #Number of unique elements in input "
   ]
  },
  {
   "cell_type": "markdown",
   "metadata": {},
   "source": [
    "### Generate parameters a and b randomly for the hash function\n"
   ]
  },
  {
   "cell_type": "code",
   "execution_count": 27,
   "metadata": {
    "collapsed": true
   },
   "outputs": [],
   "source": [
    "def generate_ab():\n",
    "    for i in range(n):\n",
    "        x = random.randint(1, p - 1)\n",
    "        y = random.randint(0, p - 1)\n",
    "        a.append(x)\n",
    "        b.append(y)"
   ]
  },
  {
   "cell_type": "markdown",
   "metadata": {},
   "source": [
    "### Function to calculate hash values "
   ]
  },
  {
   "cell_type": "code",
   "execution_count": 28,
   "metadata": {
    "collapsed": true
   },
   "outputs": [],
   "source": [
    "\n",
    "def hash_val(x, ai, bi):\n",
    "    ans=((ai * x + bi) % p) % m\n",
    "    return ans\n",
    "    "
   ]
  },
  {
   "cell_type": "markdown",
   "metadata": {},
   "source": [
    "### Function to calculate minimum frequency across rows in count min sketch "
   ]
  },
  {
   "cell_type": "code",
   "execution_count": 29,
   "metadata": {
    "collapsed": true
   },
   "outputs": [],
   "source": [
    "def get_min_freq(x):\n",
    "    global_min= stream_range*10000\n",
    "    for i in range(0,n):\n",
    "        y = hash_val(x, a[i], b[i])\n",
    "        local_min = matrix[i][y]\n",
    "        if local_min < global_min:\n",
    "            global_min = local_min\n",
    "    return local_min"
   ]
  },
  {
   "cell_type": "markdown",
   "metadata": {},
   "source": [
    "### Functions to plot frequency graphs "
   ]
  },
  {
   "cell_type": "code",
   "execution_count": 30,
   "metadata": {
    "collapsed": true
   },
   "outputs": [],
   "source": [
    "def plot_freq1():\n",
    "    \n",
    "    plt.title('True Frequencies')\n",
    "    plt.xlabel('Element')\n",
    "    plt.ylabel('Frequency')\n",
    "    plt.bar(actual_counts.keys(), actual_counts.values(), color='b')\n",
    "    \n",
    "    plt.show()\n",
    "    "
   ]
  },
  {
   "cell_type": "code",
   "execution_count": 31,
   "metadata": {
    "collapsed": true
   },
   "outputs": [],
   "source": [
    "def plot_freq2():\n",
    "    \n",
    "    plt.title('Count Min Sketch Frequencies ')\n",
    "    plt.xlabel('Element')\n",
    "    plt.ylabel('Frequency')\n",
    "    plt.bar(countmin_counts.keys(), countmin_counts.values(), color='r')\n",
    "    plt.show()\n",
    "    "
   ]
  },
  {
   "cell_type": "markdown",
   "metadata": {},
   "source": [
    "### Count min sketch data structure "
   ]
  },
  {
   "cell_type": "code",
   "execution_count": 32,
   "metadata": {
    "collapsed": true
   },
   "outputs": [],
   "source": [
    "matrix = np.zeros((n, m))"
   ]
  },
  {
   "cell_type": "markdown",
   "metadata": {},
   "source": [
    "### Main function : inserting elements into countmin sketch "
   ]
  },
  {
   "cell_type": "code",
   "execution_count": 33,
   "metadata": {},
   "outputs": [
    {
     "name": "stdout",
     "output_type": "stream",
     "text": [
      " HASH FUNCTIONS\n",
      "\n",
      "1 (468616x + 526331)  % 1000003 % 2719\n",
      "2 (128752x + 962169)  % 1000003 % 2719\n",
      "3 (989037x + 2212)  % 1000003 % 2719\n",
      "4 (578775x + 629986)  % 1000003 % 2719\n",
      "5 (617410x + 452954)  % 1000003 % 2719\n",
      "6 (607426x + 977410)  % 1000003 % 2719\n",
      "7 (242260x + 360202)  % 1000003 % 2719\n",
      "8 (221063x + 545726)  % 1000003 % 2719\n",
      "9 (742654x + 99911)  % 1000003 % 2719\n",
      "10 (87773x + 813079)  % 1000003 % 2719\n",
      "11 (211678x + 108384)  % 1000003 % 2719\n",
      "12 (237289x + 266400)  % 1000003 % 2719\n",
      "13 (509920x + 738688)  % 1000003 % 2719\n",
      "14 (698641x + 460554)  % 1000003 % 2719\n",
      "15 (653385x + 202242)  % 1000003 % 2719\n",
      "16 (540223x + 429739)  % 1000003 % 2719\n",
      "17 (489992x + 479254)  % 1000003 % 2719\n",
      "18 (604058x + 179282)  % 1000003 % 2719\n",
      "19 (557343x + 238497)  % 1000003 % 2719\n",
      "20 (773336x + 257071)  % 1000003 % 2719\n",
      "21 (237797x + 674101)  % 1000003 % 2719\n",
      "22 (719067x + 693357)  % 1000003 % 2719\n",
      "23 (146936x + 170415)  % 1000003 % 2719\n",
      "24 (466378x + 747340)  % 1000003 % 2719\n",
      "25 (939640x + 632137)  % 1000003 % 2719\n"
     ]
    }
   ],
   "source": [
    "n=25 #Number of hash functions \n",
    "print \" HASH FUNCTIONS\\n\"\n",
    "generate_ab() #to generate parameters for hash functions\n",
    "#print a,b\n",
    "count=0\n",
    "for i in range(0,n): #Printing hash functions\n",
    "    count=count+1\n",
    "    s='('+str(a[i])+'x + '+str(b[i])+')  % '+str(p)+' % '+str(m)\n",
    "    print count,s\n",
    "stream=[]\n",
    "actual_counts={}\n",
    "countmin_counts={}\n",
    "for i in range(1,stream_range+1):\n",
    "    actual_counts[i] = 0\n",
    "#print actual_counts\n",
    "count=0\n",
    "for i in range(1,stream_count+1):\n",
    "    #count=count+1\n",
    "    x = randint(1, stream_range)\n",
    "    stream.append(x)\n",
    "\n",
    "    actual = actual_counts.get(x)\n",
    "    actual_counts[x] = actual + 1\n",
    "\n",
    "    for j in range(n):\n",
    "        hash_get = hash_val(x, a[j], b[j])\n",
    "        #print freq\n",
    "        countmin = matrix[j][hash_get]\n",
    "        matrix[j][hash_get] = countmin + 1\n",
    "\n",
    "\n"
   ]
  },
  {
   "cell_type": "markdown",
   "metadata": {},
   "source": [
    "### Printing true frequencies "
   ]
  },
  {
   "cell_type": "code",
   "execution_count": 34,
   "metadata": {},
   "outputs": [
    {
     "name": "stdout",
     "output_type": "stream",
     "text": [
      "True Frequencies=> {1: 186, 2: 210, 3: 208, 4: 180, 5: 182, 6: 213, 7: 223, 8: 202, 9: 192, 10: 232, 11: 179, 12: 198, 13: 179, 14: 194, 15: 177, 16: 216, 17: 206, 18: 204, 19: 221, 20: 172, 21: 202, 22: 211, 23: 192, 24: 201, 25: 201, 26: 212, 27: 175, 28: 222, 29: 190, 30: 170, 31: 214, 32: 195, 33: 184, 34: 195, 35: 200, 36: 211, 37: 205, 38: 232, 39: 212, 40: 183, 41: 205, 42: 195, 43: 217, 44: 205, 45: 191, 46: 211, 47: 206, 48: 206, 49: 195, 50: 188}\n"
     ]
    }
   ],
   "source": [
    "print \"True Frequencies=>\",actual_counts\n",
    "#print \"Stream=>\",stream"
   ]
  },
  {
   "cell_type": "markdown",
   "metadata": {},
   "source": [
    "### Checking frequency of elements in count min sketch "
   ]
  },
  {
   "cell_type": "code",
   "execution_count": 35,
   "metadata": {},
   "outputs": [
    {
     "name": "stdout",
     "output_type": "stream",
     "text": [
      "\n",
      "\n",
      "Count Min Sketch Frequencies=> {1: 186.0, 2: 210.0, 3: 208.0, 4: 180.0, 5: 182.0, 6: 213.0, 7: 223.0, 8: 202.0, 9: 192.0, 10: 232.0, 11: 179.0, 12: 198.0, 13: 179.0, 14: 194.0, 15: 177.0, 16: 216.0, 17: 206.0, 18: 204.0, 19: 221.0, 20: 172.0, 21: 202.0, 22: 211.0, 23: 192.0, 24: 201.0, 25: 201.0, 26: 212.0, 27: 175.0, 28: 222.0, 29: 190.0, 30: 170.0, 31: 214.0, 32: 195.0, 33: 184.0, 34: 195.0, 35: 200.0, 36: 211.0, 37: 205.0, 38: 232.0, 39: 212.0, 40: 183.0, 41: 205.0, 42: 195.0, 43: 217.0, 44: 205.0, 45: 191.0, 46: 211.0, 47: 206.0, 48: 206.0, 49: 195.0, 50: 188.0}\n"
     ]
    }
   ],
   "source": [
    "for i in range(1,stream_range+1):\n",
    "    minimum = get_min_freq(i)\n",
    "    countmin_counts[i] = minimum\n",
    "\n",
    "print \"\\n\"  \n",
    "print \"Count Min Sketch Frequencies=>\",countmin_counts"
   ]
  },
  {
   "cell_type": "markdown",
   "metadata": {},
   "source": [
    "### Plotting the results "
   ]
  },
  {
   "cell_type": "code",
   "execution_count": 36,
   "metadata": {},
   "outputs": [
    {
     "data": {
      "image/png": "[encoded data removed]",
      "text/plain": [
       "<matplotlib.figure.Figure at 0x8379128>"
      ]
     },
     "metadata": {},
     "output_type": "display_data"
    },
    {
     "data": {
      "image/png": "[encoded data removed]",
      "text/plain": [
       "<matplotlib.figure.Figure at 0x8379be0>"
      ]
     },
     "metadata": {},
     "output_type": "display_data"
    }
   ],
   "source": [
    "plot_freq1()\n",
    "plot_freq2()\n",
    "#print(np.shape(matrix))"
   ]
  },
  {
   "cell_type": "code",
   "execution_count": null,
   "metadata": {
    "collapsed": true
   },
   "outputs": [],
   "source": []
  }
 ],
 "metadata": {
  "kernelspec": {
   "display_name": "Python 2",
   "language": "python",
   "name": "python2"
  },
  "language_info": {
   "codemirror_mode": {
    "name": "ipython",
    "version": 2
   },
   "file_extension": ".py",
   "mimetype": "text/x-python",
   "name": "python",
   "nbconvert_exporter": "python",
   "pygments_lexer": "ipython2",
   "version": "2.7.14"
  }
 },
 "nbformat": 4,
 "nbformat_minor": 2
}
